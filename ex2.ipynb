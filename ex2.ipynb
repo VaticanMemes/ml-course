{
 "cells": [
  {
   "cell_type": "markdown",
   "metadata": {},
   "source": [
    "`torch.nn.Linear` is a PyTorch module that implements a **linear (fully connected) layer**, which is a fundamental building block in many neural networks. The layer applies a linear transformation to the input data, typically followed by an activation function (although the activation function is not included within `torch.nn.Linear` itself). \n",
    "\n",
    "### Definition:\n",
    "```python\n",
    "torch.nn.Linear(in_features, out_features, bias=True)\n",
    "```\n",
    "\n",
    "### Parameters:\n",
    "1. **`in_features` (int):** The number of input features (size of each input sample).\n",
    "2. **`out_features` (int):** The number of output features (size of each output sample).\n",
    "3. **`bias` (bool, optional):** If `True`, the layer includes a bias term in the computation. Default is `True`.\n",
    "\n",
    "### Key Components:\n",
    "- **Weights:** A learnable matrix of shape `(out_features, in_features)`.\n",
    "- **Bias:** A learnable vector of shape `(out_features,)` (if `bias=True`).\n",
    "\n",
    "### Functionality:\n",
    "For an input vector \\( x \\), the layer computes:\n",
    "\\[\n",
    "y = xW^T + b\n",
    "\\]\n",
    "- \\( x \\): Input of shape `(batch_size, in_features)`.\n",
    "- \\( W \\): Weight matrix of shape `(out_features, in_features)`.\n",
    "- \\( b \\): Bias vector of shape `(out_features)` (optional).\n",
    "\n",
    "If no bias is used, the computation simplifies to:\n",
    "\\[\n",
    "y = xW^T\n",
    "\\]\n",
    "\n",
    "### Example Usage:\n",
    "```python\n",
    "import torch\n",
    "import torch.nn as nn\n",
    "\n",
    "# Define a Linear layer with 4 input features and 3 output features\n",
    "linear_layer = nn.Linear(4, 3)\n",
    "\n",
    "# Input tensor with 2 samples (batch size of 2) and 4 features\n",
    "input_tensor = torch.randn(2, 4)\n",
    "\n",
    "# Forward pass through the Linear layer\n",
    "output = linear_layer(input_tensor)\n",
    "\n",
    "print(\"Input:\", input_tensor)\n",
    "print(\"Output:\", output)\n",
    "```\n",
    "\n",
    "### Applications:\n",
    "- Used to project features from one dimensional space to another.\n",
    "- Commonly found in feedforward neural networks, where it's often combined with non-linear activation functions like ReLU, Sigmoid, etc.\n",
    "- Often the final layer in a classification task to produce logits, which can then be passed to `nn.Softmax` or `nn.CrossEntropyLoss`.\n",
    "\n",
    "### Learnable Parameters:\n",
    "After initializing the `Linear` layer, its parameters (weights and biases) are accessible via:\n",
    "```python\n",
    "linear_layer.weight  # Learnable weight matrix\n",
    "linear_layer.bias    # Learnable bias vector\n",
    "``` \n",
    "\n",
    "These parameters are updated during backpropagation when using an optimizer in a training loop."
   ]
  },
  {
   "cell_type": "code",
   "execution_count": 1,
   "metadata": {},
   "outputs": [
    {
     "name": "stdout",
     "output_type": "stream",
     "text": [
      "Input: tensor([[-0.7668, -1.0786,  0.6036, -0.9258],\n",
      "        [ 0.4983, -1.2022, -0.8954, -0.1551]])\n",
      "Output: tensor([[-0.3324, -0.1297, -0.7636],\n",
      "        [-0.3785, -0.6446,  0.1587]], grad_fn=<AddmmBackward0>)\n"
     ]
    }
   ],
   "source": [
    "import torch\n",
    "import torch.nn as nn\n",
    "\n",
    "# Define a Linear layer with 4 input features and 3 output features\n",
    "linear_layer = nn.Linear(4, 3)\n",
    "\n",
    "# Input tensor with 2 samples (batch size of 2) and 4 features\n",
    "input_tensor = torch.randn(2, 4)\n",
    "\n",
    "# Forward pass through the Linear layer\n",
    "output = linear_layer(input_tensor)\n",
    "\n",
    "print(\"Input:\", input_tensor)\n",
    "print(\"Output:\", output)\n"
   ]
  }
 ],
 "metadata": {
  "kernelspec": {
   "display_name": "Python 3",
   "language": "python",
   "name": "python3"
  },
  "language_info": {
   "codemirror_mode": {
    "name": "ipython",
    "version": 3
   },
   "file_extension": ".py",
   "mimetype": "text/x-python",
   "name": "python",
   "nbconvert_exporter": "python",
   "pygments_lexer": "ipython3",
   "version": "3.12.8"
  }
 },
 "nbformat": 4,
 "nbformat_minor": 2
}
